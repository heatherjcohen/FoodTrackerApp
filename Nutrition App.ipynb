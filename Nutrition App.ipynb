{
 "cells": [
  {
   "cell_type": "code",
   "execution_count": null,
   "metadata": {},
   "outputs": [],
   "source": [
    "#For future reference\n",
    "#https://opendata.stackexchange.com/questions/269/open-api-for-nutritional-information-and-or-food-barcodes"
   ]
  },
  {
   "cell_type": "code",
   "execution_count": 15,
   "metadata": {},
   "outputs": [
    {
     "name": "stdout",
     "output_type": "stream",
     "text": [
      "{'list': {'q': 'butter', 'sr': '1', 'ds': 'any', 'start': 0, 'end': 150, 'total': 4671, 'group': '', 'sort': 'r', 'item': [{'offset': 0, 'group': 'Branded Food Products Database', 'name': \"BREYERS, BLASTS!, FROZEN DAIRY DESSERT, REESE'S PEANUT BUTTER CUPS CHOCOLATE FLAVOR WITH REESE'S PEANUT BUTTER SWIRL AND REESE'S PEANUT BUTTER CUP PIECES, UPC: 077567205186\", 'ndbno': '45093459', 'ds': 'LI', 'manu': 'Good Humor-Breyers Ice Cream'}, {'offset': 1, 'group': 'Branded Food Products Database', 'name': 'PEANUT BUTTER CREME PIES, PEANUT BUTTER COOKIES WITH PEANUT BUTTER CREME FILLING, UPC: 024300044106', 'ndbno': '45112260', 'ds': 'LI', 'manu': 'McKee Foods Corporation'}, {'offset': 2, 'group': 'Dairy and Egg Products', 'name': 'Butter, Clarified butter (ghee)', 'ndbno': '01323', 'ds': 'SR', 'manu': 'none'}, {'offset': 3, 'group': 'Fats and Oils', 'name': 'Margarine-like, margarine-butter blend, soybean oil and butter', 'ndbno': '04585', 'ds': 'SR', 'manu': 'none'}, {'offset': 4, 'group': 'Branded Food Products Database', 'name': 'CHOCOLATE ICE CREAM WITH PEANUT BUTTER RIBBON, BROWNIES AND PEANUT BUTTER CANDY CUPS, UPC: 075450222395', 'ndbno': '45360742', 'ds': 'LI', 'manu': 'Hy-Vee, Inc.'}, {'offset': 5, 'group': 'Branded Food Products Database', 'name': 'BARNEY BUTTER ALMOND BUTTER HONEY + FLAX, UPC: 858864004401', 'ndbno': '45286955', 'ds': 'LI', 'manu': 'none'}, {'offset': 6, 'group': 'Branded Food Products Database', 'name': \"PEANUT BUTTER 'N DARK CHOCOLATE MIX WITH PEANUT BUTTER CANDIES, UPC: 077034084412\", 'ndbno': '45164967', 'ds': 'LI', 'manu': 'Kar Nut Products Company'}, {'offset': 7, 'group': 'Branded Food Products Database', 'name': 'SOUTHERN HOME, PEANUT BUTTER FILLED MINI PRETZELS, PEANUT BUTTER, UPC: 607880036091', 'ndbno': '45160382', 'ds': 'LI', 'manu': \"Bruno's Supermarkets, Inc.\"}, {'offset': 8, 'group': 'Branded Food Products Database', 'name': 'BROWN BUTTER SALTED CARAMEL BROWN BUTTER ICE CREAM, UPC: 070640016174', 'ndbno': '45357193', 'ds': 'LI', 'manu': \"WELLS' ENTERPRISES, INC.\"}, {'offset': 9, 'group': 'Branded Food Products Database', 'name': 'AMISH COUNTRY BUTTER, AMISH STYLE HAND-ROLLED SALTED BUTTER, UPC: 890769002083', 'ndbno': '45188178', 'ds': 'LI', 'manu': 'Pearl Valley Cheese, Inc.'}, {'offset': 10, 'group': 'Branded Food Products Database', 'name': 'WEIS QUALITY, POTATO CLASSICS, CREAMY BUTTER, REAL MASHED POTATOES SEASONED WITH BUTTER, UPC: 041497311163', 'ndbno': '45017392', 'ds': 'LI', 'manu': 'WEIS MARKETS, INC.'}, {'offset': 11, 'group': 'Branded Food Products Database', 'name': 'UTZ, PEANUT BUTTER FILLED PRETZELS, PEANUT BUTTER, UPC: 041780022301', 'ndbno': '45015542', 'ds': 'LI', 'manu': 'UTZ QUALITY FOODS, INC.'}, {'offset': 12, 'group': 'Branded Food Products Database', 'name': \"MRS. CUBBISON'S, BUTTER & GARLIC CROUTONS, BUTTER & GARLIC, UPC: 074714085653\", 'ndbno': '45021625', 'ds': 'LI', 'manu': 'SUGAR FOODS CORPORATION'}, {'offset': 13, 'group': 'Branded Food Products Database', 'name': 'NECCO, MARY JANE, PEANUT BUTTER KISSES CANDY, PEANUT BUTTER, UPC: 011215314790', 'ndbno': '45123923', 'ds': 'LI', 'manu': 'NEW ENGLAND CONFECTIONERY COMPANY INC.'}, {'offset': 14, 'group': 'Branded Food Products Database', 'name': 'NABISCO, NUTTER BUTTER, PEANUT BUTTER SANDWICH COOKIES, UPC: 044000036577', 'ndbno': '45310372', 'ds': 'LI', 'manu': 'Nabisco Biscuit Company'}, {'offset': 15, 'group': 'Branded Food Products Database', 'name': 'NABISCO, NUTTER BUTTER, PEANUT BUTTER SANDWICH COOKIES BITES, UPC: 044000003067', 'ndbno': '45310353', 'ds': 'LI', 'manu': 'Nabisco Biscuit Company'}, {'offset': 16, 'group': 'Branded Food Products Database', 'name': 'NABISCO, NUTTER BUTTER, PEANUT BUTTER SANDWICH COOKIES, UPC: 044000088453', 'ndbno': '45309706', 'ds': 'LI', 'manu': 'Nabisco Biscuit Company'}, {'offset': 17, 'group': 'Branded Food Products Database', 'name': 'NABISCO, NUTTER BUTTER, SANDWICH COOKIES, PEANUT BUTTER, UPC: 044000037451', 'ndbno': '45309609', 'ds': 'LI', 'manu': 'Nabisco Biscuit Company'}, {'offset': 18, 'group': 'Branded Food Products Database', 'name': 'NABISCO, NUTTER BUTTER, PEANUT BUTTER SANDWICH COOKIES, UPC: 044000042516', 'ndbno': '45309598', 'ds': 'LI', 'manu': 'Nabisco Biscuit Company'}, {'offset': 19, 'group': 'Branded Food Products Database', 'name': 'OLD DOMINION PEANUT COMPANY, PEANUT BUTTER DOUBLE UPS, PEANUTS, PEANUT BUTTER AND CHOCOLATE, UPC: 076138028209', 'ndbno': '45156970', 'ds': 'LI', 'manu': \"Hammond's Candies Since 1920, LLC\"}, {'offset': 20, 'group': 'Branded Food Products Database', 'name': \"MIKE'S POPCORN, BUTTER POPCORN, BUTTER, UPC: 855762005363\", 'ndbno': '45166932', 'ds': 'LI', 'manu': \"Mike's Popcorn, LLC\"}, {'offset': 21, 'group': 'Branded Food Products Database', 'name': 'CLIF BAR, NUT BUTTER FILLED ENERGY BAR, COCONUT ALMOND BUTTER, UPC: 722252368829', 'ndbno': '45091154', 'ds': 'LI', 'manu': 'Clif Bar and Company'}, {'offset': 22, 'group': 'Branded Food Products Database', 'name': 'CLIF BAR, NUT BUTTER FILLED ENERGY BAR, CHOCOLATE HAZELNUT BUTTER, UPC: 722252368805', 'ndbno': '45091155', 'ds': 'LI', 'manu': 'Clif Bar and Company'}, {'offset': 23, 'group': 'Branded Food Products Database', 'name': 'BUTTER BELLA, GOURMET COOKIES, BUTTER WITH TURBINADO SPRINKLES, UPC: 891066001519', 'ndbno': '45170191', 'ds': 'LI', 'manu': 'Butter Bella LLC'}, {'offset': 24, 'group': 'Branded Food Products Database', 'name': 'MAINE COUNTRY BUTTER, SALTED BUTTER, UPC: 090762000011', 'ndbno': '45167682', 'ds': 'LI', 'manu': 'Pleasant Acres'}, {'offset': 25, 'group': 'Branded Food Products Database', 'name': 'NUTTER BUTTER, PEANUT BUTTER SANDWICH COOKIES, UPC: 044000046316', 'ndbno': '45246152', 'ds': 'LI', 'manu': 'Nabisco Biscuit Company'}, {'offset': 26, 'group': 'Branded Food Products Database', 'name': 'LAKE CHAMPLAIN CHOCOLATE, ORGANIC PEANUT BUTTER CHOCOLATE, PEANUT BUTTER, UPC: 769933854929', 'ndbno': '45340897', 'ds': 'LI', 'manu': 'Champlain Chocolate Company'}, {'offset': 27, 'group': 'Branded Food Products Database', 'name': 'BREYERS, FROZEN DAIRY DESSERT, NO SUGAR ADDED, BUTTER PECAN, BUTTER PECAN FLAVOR WITH OTHER NATURAL FLAVORS AND PECAN PIECES, UPC: 077567281968', 'ndbno': '45093454', 'ds': 'LI', 'manu': 'Good Humor-Breyers Ice Cream'}, {'offset': 28, 'group': 'Branded Food Products Database', 'name': 'BREYERS, DARK CHOCOLATE ICE CREAM WITH PEANUT BUTTER SWIRL, CHOCOLATE PEANUT BUTTER, UPC: 077567603326', 'ndbno': '45093440', 'ds': 'LI', 'manu': 'Good Humor-Breyers Ice Cream'}, {'offset': 29, 'group': 'Branded Food Products Database', 'name': \"BREYERS, BLASTS!, PEANUT BUTTER LIGHT ICE CREAM* WITH REESE'S PEANUT BUTTER CUP PIECES AND A FUDGE SWIRL, UPC: 077567275066\", 'ndbno': '45093419', 'ds': 'LI', 'manu': 'Good Humor-Breyers Ice Cream'}, {'offset': 30, 'group': 'Branded Food Products Database', 'name': 'NUT BUTTER FILLED COCONUT ALMOND BUTTER, UPC: 722252268020', 'ndbno': '45091165', 'ds': 'LI', 'manu': 'Clif Bar and Company'}, {'offset': 31, 'group': 'Branded Food Products Database', 'name': 'AUNT JEMIMA, BUTTER RICH SYRUP, BUTTER, UPC: 030000059401', 'ndbno': '45307774', 'ds': 'LI', 'manu': 'THE QUAKER OATS COMPANY'}, {'offset': 32, 'group': 'Branded Food Products Database', 'name': 'SHOPRITE, ORGANIC CHUNKY PEANUT BUTTER, PEANUT, BUTTER, UPC: 041190043538', 'ndbno': '45038484', 'ds': 'LI', 'manu': 'WAKEFERN FOOD CORPORATION'}, {'offset': 33, 'group': 'Branded Food Products Database', 'name': 'CHALLENGE BUTTER, GRADE AA SALTED BUTTER, UPC: 047200152641', 'ndbno': '45037291', 'ds': 'LI', 'manu': 'Challenge Dairy Products Inc.'}, {'offset': 34, 'group': 'Branded Food Products Database', 'name': 'BARNEY BUTTER, ALMOND BUTTER, UPC: 094922667311', 'ndbno': '45036114', 'ds': 'LI', 'manu': 'Georgia Peach Products, Inc.'}, {'offset': 35, 'group': 'Branded Food Products Database', 'name': \"BOGG'S TRAIL BUTTER, ALL NATURAL ENERGY NUT BUTTER, UPC: 715134255720\", 'ndbno': '45192237', 'ds': 'LI', 'manu': 'Big Fun A Go Go, Inc.'}, {'offset': 36, 'group': 'Branded Food Products Database', 'name': 'VANILLA ICE CREAM WITH PEANUT BUTTER FILLED MILK CHOCOLATE CANDY CUPS, FUDGE & PEANUT BUTTER SWIRLS, UPC: 018894310211', 'ndbno': '45284723', 'ds': 'LI', 'manu': 'Big Y Foods, Inc.'}, {'offset': 37, 'group': 'Branded Food Products Database', 'name': 'GARDNERS CANDIES, ORIGINAL PEANUT BUTTER MELTAWAYS, PEANUT BUTTER, UPC: 088671105217', 'ndbno': '45165309', 'ds': 'LI', 'manu': 'Gardners Candies Inc.'}, {'offset': 38, 'group': 'Branded Food Products Database', 'name': 'BUTTER CUPS, SPREADABLE CREAMED BUTTER, UPC: 852996005107', 'ndbno': '45180431', 'ds': 'LI', 'manu': 'Heart Foods LLC'}, {'offset': 39, 'group': 'Branded Food Products Database', 'name': 'MURRAY, SUGAR FREE PEANUT BUTTER COOKIES, PEANUT BUTTER, UPC: 082011913319', 'ndbno': '45292671', 'ds': 'LI', 'manu': 'President Baking Company, Inc.'}, {'offset': 40, 'group': 'Branded Food Products Database', 'name': 'FUDGE COVERED PEANUT BUTTER CAKE WITH PEANUT BUTTER CREAMY FILLING, UPC: 888109011673', 'ndbno': '45348887', 'ds': 'LI', 'manu': 'HOSTESS BRANDS, LLC'}, {'offset': 41, 'group': 'Branded Food Products Database', 'name': 'JOLLY TIME, XTRA BUTTER MICROWAVE POP CORN, BUTTER, UPC: 028190008477', 'ndbno': '45043440', 'ds': 'LI', 'manu': 'AMERICAN POP CORN COMPANY'}, {'offset': 42, 'group': 'Branded Food Products Database', 'name': 'THE BAKERY, PEANUT BUTTER FUDGE, CREAMY PEANUT BUTTER, UPC: 078742121512', 'ndbno': '45176980', 'ds': 'LI', 'manu': 'WAL-MART STORES, INC.'}, {'offset': 43, 'group': 'Branded Food Products Database', 'name': 'BUTTER & MAPLE FLAVORED ICE CREAM WITH BUTTER FLAVORED CANDY PIECES, UPC: 018894310228', 'ndbno': '45291096', 'ds': 'LI', 'manu': 'Big Y Foods, Inc.'}, {'offset': 44, 'group': 'Branded Food Products Database', 'name': 'OLD DOMINION PEANUT COMPANY, PEANUT BUTTER DOUBLE UPS, PEANUTS, PEANUT BUTTER AND CHOCOLATE, UPC: 076138021224', 'ndbno': '45144034', 'ds': 'LI', 'manu': \"Hammond's Candies Since 1920, LLC\"}, {'offset': 45, 'group': 'Branded Food Products Database', 'name': 'BELMONT, BUTTER TOASTED PEANUTS, BUTTER TOASTED, UPC: 858582001300', 'ndbno': '45216796', 'ds': 'LI', 'manu': 'Belmont Peanuts of Southampton'}, {'offset': 46, 'group': 'Branded Food Products Database', 'name': 'CASCO BAY BUTTER CO, TRUFFLE BUTTER, UPC: 857534005021', 'ndbno': '45187982', 'ds': 'LI', 'manu': 'Casco Bay Butter Company LLC'}, {'offset': 47, 'group': 'Branded Food Products Database', 'name': \"BLUE SKY TREATS, MATTHEW'S PEANUT BUTTER BAR, PEANUT BUTTER, UPC: 879275000653\", 'ndbno': '45160006', 'ds': 'LI', 'manu': 'none'}, {'offset': 48, 'group': 'Branded Food Products Database', 'name': 'WILD FRIENDS, PEANUT BUTTER WITH CRUNCHY PRETZEL BUTS, PEANUT BUTTER, UPC: 00853547003061', 'ndbno': '45064086', 'ds': 'LI', 'manu': 'Wild Squirrel LLC'}, {'offset': 49, 'group': 'Branded Food Products Database', 'name': 'BUTTER HARD CARAMELS, MADE WITH REAL BUTTER AND CREAM, UPC: 072976138179', 'ndbno': '45280594', 'ds': 'LI', 'manu': 'none'}, {'offset': 50, 'group': 'Branded Food Products Database', 'name': 'RICH MILK CHOCOLATE ICE CREAM PERFECTLY PAIRED WITH SWIRLS OF REAL PEANUT BUTTER AND MILK CHOCOLATE PEANUT BUTTER CUPS, UPC: 076310080568', 'ndbno': '45356940', 'ds': 'LI', 'manu': 'United Dairy Farmers Inc'}, {'offset': 51, 'group': 'Branded Food Products Database', 'name': 'SCHOOL KINE COOKIES, ALL BUTTER COOKIES, CORNFLAKE BUTTER CRUNCH, UPC: 034859300080', 'ndbno': '45163430', 'ds': 'LI', 'manu': 'SCHOOL KINE COOKIES'}, {'offset': 52, 'group': 'Branded Food Products Database', 'name': 'BUCKEYE BROWNIE PEANUT BUTTER ICE CREAM SWIRLED WITH THICK PEANUT BUTTER AND CHOCOLATE BROWNIE BITES, UPC: 070682100527', 'ndbno': '45286606', 'ds': 'LI', 'manu': 'Velvet Ice Cream Co.'}, {'offset': 53, 'group': 'Branded Food Products Database', 'name': 'SWEET BUTTER, GREEN BUTTER LETTUCE & RED LEAF LETTUCE, UPC: 071279221038', 'ndbno': '45228468', 'ds': 'LI', 'manu': 'FRESH EXPRESS INCORPORATED'}, {'offset': 54, 'group': 'Branded Food Products Database', 'name': 'FRESH CHURNED BUTTER, HONEY BUTTER, UPC: 641548101479', 'ndbno': '45324602', 'ds': 'LI', 'manu': 'none'}, {'offset': 55, 'group': 'Branded Food Products Database', 'name': 'FUDGE COVERED PEANUT BUTTER CAKE WITH PEANUT BUTTER CREAMY FILLING, UPC: 888109011680', 'ndbno': '45358190', 'ds': 'LI', 'manu': 'HOSTESS BRANDS, LLC'}, {'offset': 56, 'group': 'Branded Food Products Database', 'name': 'NABISCO NUTTER BUTTER COOKIES NUTTER BUTTER 1X3.500 OZ, UNPREPARED, GTIN: 00044000036584', 'ndbno': '45376275', 'ds': 'GDSN', 'manu': 'Mondelez Int. US (0074819091009)'}, {'offset': 57, 'group': 'Branded Food Products Database', 'name': 'BUTTER ME UP!, PEANUT BUTTER, HONEY ROASTED, UPC: 720825454856', 'ndbno': '45192259', 'ds': 'LI', 'manu': 'Orange Music, Inc.'}, {'offset': 58, 'group': 'Branded Food Products Database', 'name': 'BUTTER ME UP!, WHITE CHOCOLATE ALMOND BUTTER, UPC: 720825454917', 'ndbno': '45192268', 'ds': 'LI', 'manu': 'Orange Music, Inc.'}, {'offset': 59, 'group': 'Branded Food Products Database', 'name': 'BUTTER ME UP!, CASHEW BUTTER, UPC: 720825454849', 'ndbno': '45192267', 'ds': 'LI', 'manu': 'Orange Music, Inc.'}, {'offset': 60, 'group': 'Branded Food Products Database', 'name': 'BUTTER MINTS MADE WITH CREAMY BUTTER, UPC: 072376906866', 'ndbno': '45053371', 'ds': 'LI', 'manu': 'Pennsylvania Dutch Co Inc'}, {'offset': 61, 'group': 'Branded Food Products Database', 'name': 'PEANUT BUTTER & CO, PEANUT BUTTER BLENDED WITH DARK CHOCOLATE, UPC: 851087000304', 'ndbno': '45005738', 'ds': 'LI', 'manu': 'Peanut Butter & Co, Inc.'}, {'offset': 62, 'group': 'Branded Food Products Database', 'name': 'CHOCOLATE FROZEN YOGURT WITH PEANUT BUTTER CUPS AND A PEANUT BUTTER FUDGE SWIRL, UPC: 041483041265', 'ndbno': '45271667', 'ds': 'LI', 'manu': 'none'}, {'offset': 63, 'group': 'Baked Products', 'name': 'Croissants, butter', 'ndbno': '18239', 'ds': 'SR', 'manu': 'none'}, {'offset': 64, 'group': 'Dairy and Egg Products', 'name': 'Butter, salted', 'ndbno': '01001', 'ds': 'SR', 'manu': 'none'}, {'offset': 65, 'group': 'Dairy and Egg Products', 'name': 'Butter, whipped, with salt', 'ndbno': '01002', 'ds': 'SR', 'manu': 'none'}, {'offset': 66, 'group': 'Dairy and Egg Products', 'name': 'Butter oil, anhydrous', 'ndbno': '01003', 'ds': 'SR', 'manu': 'none'}, {'offset': 67, 'group': 'Dairy and Egg Products', 'name': 'Butter, without salt', 'ndbno': '01145', 'ds': 'SR', 'manu': 'none'}, {'offset': 68, 'group': 'Fats and Oils', 'name': 'Oil, cocoa butter', 'ndbno': '04501', 'ds': 'SR', 'manu': 'none'}, {'offset': 69, 'group': 'Fats and Oils', 'name': 'Oil, nutmeg butter', 'ndbno': '04572', 'ds': 'SR', 'manu': 'none'}, {'offset': 70, 'group': 'Fats and Oils', 'name': 'Oil, ucuhuba butter', 'ndbno': '04573', 'ds': 'SR', 'manu': 'none'}, {'offset': 71, 'group': 'Nut and Seed Products', 'name': 'Seeds, sesame butter, paste', 'ndbno': '12169', 'ds': 'SR', 'manu': 'none'}, {'offset': 72, 'group': 'Legumes and Legume Products', 'name': 'Peanut butter, reduced sodium', 'ndbno': '42291', 'ds': 'SR', 'manu': 'none'}, {'offset': 73, 'group': 'Sweets', 'name': 'Fruit butters, apple', 'ndbno': '19294', 'ds': 'SR', 'manu': 'none'}, {'offset': 74, 'group': 'Fats and Oils', 'name': 'Butter, light, stick, with salt', 'ndbno': '04601', 'ds': 'SR', 'manu': 'none'}, {'offset': 75, 'group': 'Fats and Oils', 'name': 'Butter, light, stick, without salt', 'ndbno': '04602', 'ds': 'SR', 'manu': 'none'}, {'offset': 76, 'group': 'Fats and Oils', 'name': 'Butter replacement, without fat, powder', 'ndbno': '43214', 'ds': 'SR', 'manu': 'none'}, {'offset': 77, 'group': 'Nut and Seed Products', 'name': 'Seeds, sunflower seed butter, without salt', 'ndbno': '12040', 'ds': 'SR', 'manu': 'none'}, {'offset': 78, 'group': 'Nut and Seed Products', 'name': 'Nuts, cashew butter, plain, without salt added', 'ndbno': '12088', 'ds': 'SR', 'manu': 'none'}, {'offset': 79, 'group': 'Nut and Seed Products', 'name': 'Nuts, almond butter, plain, without salt added', 'ndbno': '12195', 'ds': 'SR', 'manu': 'none'}, {'offset': 80, 'group': 'Nut and Seed Products', 'name': \"Seeds, sunflower seed butter, with salt added (Includes foods for USDA's Food Distribution Program)\", 'ndbno': '12540', 'ds': 'SR', 'manu': 'none'}, {'offset': 81, 'group': 'Nut and Seed Products', 'name': 'Nuts, cashew butter, plain, with salt added', 'ndbno': '12588', 'ds': 'SR', 'manu': 'none'}, {'offset': 82, 'group': 'Nut and Seed Products', 'name': 'Nuts, almond butter, plain, with salt added', 'ndbno': '12695', 'ds': 'SR', 'manu': 'none'}, {'offset': 83, 'group': 'Nut and Seed Products', 'name': 'Seeds, sesame butter, tahini, type of kernels unspecified', 'ndbno': '12698', 'ds': 'SR', 'manu': 'none'}, {'offset': 84, 'group': 'Legumes and Legume Products', 'name': 'Peanut butter, smooth, reduced fat', 'ndbno': '16150', 'ds': 'SR', 'manu': 'none'}, {'offset': 85, 'group': 'Baked Products', 'name': 'Cookies, butter, commercially prepared, enriched', 'ndbno': '18155', 'ds': 'SR', 'manu': 'none'}, {'offset': 86, 'group': 'Baked Products', 'name': 'Cookies, peanut butter, refrigerated dough', 'ndbno': '18187', 'ds': 'SR', 'manu': 'none'}, {'offset': 87, 'group': 'Baked Products', 'name': 'Cookies, peanut butter sandwich, regular', 'ndbno': '18190', 'ds': 'SR', 'manu': 'none'}, {'offset': 88, 'group': 'Baked Products', 'name': 'Cookies, butter, commercially prepared, unenriched', 'ndbno': '18421', 'ds': 'SR', 'manu': 'none'}, {'offset': 89, 'group': 'Sweets', 'name': \"Candies, confectioner's coating, peanut butter\", 'ndbno': '19086', 'ds': 'SR', 'manu': 'none'}, {'offset': 90, 'group': 'Sweets', 'name': \"Candies, REESE'S Peanut Butter Cups\", 'ndbno': '19150', 'ds': 'SR', 'manu': 'Hershey Food Corp.'}, {'offset': 91, 'group': 'Snacks', 'name': 'Snacks, granola bars, hard, peanut butter', 'ndbno': '19420', 'ds': 'SR', 'manu': 'none'}, {'offset': 92, 'group': 'Fats and Oils', 'name': 'Vegetable oil-butter spread, reduced calorie', 'ndbno': '42151', 'ds': 'SR', 'manu': 'none'}, {'offset': 93, 'group': 'Breakfast Cereals', 'name': 'Cereals, QUAKER, Instant Grits, Butter flavor, dry', 'ndbno': '08221', 'ds': 'SR', 'manu': 'The Quaker Oats, Co.'}, {'offset': 94, 'group': 'Vegetables and Vegetable Products', 'name': 'Potatoes, scalloped, home-prepared with butter', 'ndbno': '11372', 'ds': 'SR', 'manu': 'none'}, {'offset': 95, 'group': 'Vegetables and Vegetable Products', 'name': 'Pickles, cucumber, sweet (includes bread and butter pickles)', 'ndbno': '11940', 'ds': 'SR', 'manu': 'none'}, {'offset': 96, 'group': 'Nut and Seed Products', 'name': 'Seeds, sesame butter, tahini, from unroasted kernels (non-chemically removed seed coat)', 'ndbno': '12171', 'ds': 'SR', 'manu': 'none'}, {'offset': 97, 'group': 'Legumes and Legume Products', 'name': 'Peanut butter, chunk style, with salt', 'ndbno': '16097', 'ds': 'SR', 'manu': 'none'}, {'offset': 98, 'group': 'Legumes and Legume Products', 'name': \"Peanut butter, smooth style, with salt (Includes foods for USDA's Food Distribution Program)\", 'ndbno': '16098', 'ds': 'SR', 'manu': 'none'}, {'offset': 99, 'group': 'Legumes and Legume Products', 'name': 'Peanut butter, smooth, vitamin and mineral fortified', 'ndbno': '16155', 'ds': 'SR', 'manu': 'none'}, {'offset': 100, 'group': 'Legumes and Legume Products', 'name': 'Peanut butter, chunky, vitamin and mineral fortified', 'ndbno': '16156', 'ds': 'SR', 'manu': 'none'}, {'offset': 101, 'group': 'Legumes and Legume Products', 'name': 'Peanut butter, chunk style, without salt', 'ndbno': '16397', 'ds': 'SR', 'manu': 'none'}, {'offset': 102, 'group': 'Legumes and Legume Products', 'name': 'Peanut butter, smooth style, without salt', 'ndbno': '16398', 'ds': 'SR', 'manu': 'none'}, {'offset': 103, 'group': 'Legumes and Legume Products', 'name': 'Peanut butter with omega-3, creamy', 'ndbno': '16399', 'ds': 'SR', 'manu': 'none'}, {'offset': 104, 'group': 'Baked Products', 'name': 'Cookies, peanut butter, commercially prepared, regular', 'ndbno': '18185', 'ds': 'SR', 'manu': 'none'}, {'offset': 105, 'group': 'Baked Products', 'name': 'Cookies, peanut butter, commercially prepared, soft-type', 'ndbno': '18186', 'ds': 'SR', 'manu': 'none'}, {'offset': 106, 'group': 'Baked Products', 'name': 'Cookies, peanut butter, refrigerated dough, baked', 'ndbno': '18188', 'ds': 'SR', 'manu': 'none'}, {'offset': 107, 'group': 'Baked Products', 'name': 'Cookies, peanut butter, prepared from recipe', 'ndbno': '18189', 'ds': 'SR', 'manu': 'none'}, {'offset': 108, 'group': 'Baked Products', 'name': 'Cookies, peanut butter sandwich, special dietary', 'ndbno': '18201', 'ds': 'SR', 'manu': 'none'}, {'offset': 109, 'group': 'Baked Products', 'name': 'Crackers, wheat, sandwich, with peanut butter filling', 'ndbno': '18234', 'ds': 'SR', 'manu': 'none'}, {'offset': 110, 'group': 'Baked Products', 'name': 'Archway Home Style Cookies, Peanut Butter', 'ndbno': '18541', 'ds': 'SR', 'manu': 'Archway Cookies'}, {'offset': 111, 'group': 'Baked Products', 'name': 'Cookie, with peanut butter filling, chocolate-coated', 'ndbno': '28290', 'ds': 'SR', 'manu': 'Kellogg, Co.'}, {'offset': 112, 'group': 'Baked Products', 'name': 'Cookie, butter or sugar, with chocolate icing or filling', 'ndbno': '28293', 'ds': 'SR', 'manu': 'Kellogg, Co.'}, {'offset': 113, 'group': 'Baked Products', 'name': 'Cookies, peanut butter, commercially prepared, sugar free', 'ndbno': '28301', 'ds': 'SR', 'manu': 'none'}, {'offset': 114, 'group': 'Sweets', 'name': 'Candies, honey-combed, with peanut butter', 'ndbno': '19025', 'ds': 'SR', 'manu': 'none'}, {'offset': 115, 'group': 'Sweets', 'name': 'Candies, fudge, peanut butter, prepared-from-recipe', 'ndbno': '19102', 'ds': 'SR', 'manu': 'none'}, {'offset': 116, 'group': 'Sweets', 'name': 'Syrups, table blends, pancake, with butter', 'ndbno': '19113', 'ds': 'SR', 'manu': 'none'}, {'offset': 117, 'group': 'Sweets', 'name': 'Candies, semisweet chocolate, made with butter', 'ndbno': '19701', 'ds': 'SR', 'manu': 'none'}, {'offset': 118, 'group': 'Sweets', 'name': 'Candies, crispy bar with peanut butter filling', 'ndbno': '19910', 'ds': 'SR', 'manu': 'none'}, {'offset': 119, 'group': 'Snacks', 'name': 'Snacks, granola bars, soft, uncoated, peanut butter', 'ndbno': '19021', 'ds': 'SR', 'manu': 'none'}, {'offset': 120, 'group': 'Fats and Oils', 'name': 'Margarine-like, vegetable oil-butter spread, tub, with salt', 'ndbno': '04600', 'ds': 'SR', 'manu': 'none'}, {'offset': 121, 'group': 'Fats and Oils', 'name': 'Oil, industrial, soy (partially hydrogenated), multiuse for non-dairy butter flavor', 'ndbno': '04651', 'ds': 'SR', 'manu': 'none'}, {'offset': 122, 'group': 'Fats and Oils', 'name': 'Margarine-like, butter-margarine blend, 80% fat, stick, without salt', 'ndbno': '42307', 'ds': 'SR', 'manu': 'none'}, {'offset': 123, 'group': 'Soups, Sauces, and Gravies', 'name': 'Sauce, white, thin, prepared-from-recipe, with butter', 'ndbno': '06264', 'ds': 'SR', 'manu': 'none'}, {'offset': 124, 'group': 'Breakfast Cereals', 'name': \"Cereals ready-to-eat, QUAKER, CAP'N CRUNCH'S PEANUT BUTTER CRUNCH\", 'ndbno': '08012', 'ds': 'SR', 'manu': 'The Quaker Oats, Co.'}, {'offset': 125, 'group': 'Breakfast Cereals', 'name': \"Cereals ready-to-eat, QUAKER, MOTHER'S PEANUT BUTTER BUMPERS Cereal\", 'ndbno': '08351', 'ds': 'SR', 'manu': 'The Quaker Oats, Co.'}, {'offset': 126, 'group': 'Vegetables and Vegetable Products', 'name': 'Potatoes, au gratin, home-prepared from recipe using butter', 'ndbno': '11373', 'ds': 'SR', 'manu': 'none'}, {'offset': 127, 'group': 'Vegetables and Vegetable Products', 'name': 'Potatoes, hash brown, frozen, with butter sauce, unprepared', 'ndbno': '11392', 'ds': 'SR', 'manu': 'none'}, {'offset': 128, 'group': 'Vegetables and Vegetable Products', 'name': 'Potatoes, hash brown, frozen, with butter sauce, prepared', 'ndbno': '11393', 'ds': 'SR', 'manu': 'none'}, {'offset': 129, 'group': 'Vegetables and Vegetable Products', 'name': 'Potatoes, mashed, home-prepared, whole milk and butter added', 'ndbno': '11934', 'ds': 'SR', 'manu': 'none'}, {'offset': 130, 'group': 'Vegetables and Vegetable Products', 'name': 'Pickles, cucumber, sweet, low sodium (includes bread and butter pickles)', 'ndbno': '11948', 'ds': 'SR', 'manu': 'none'}, {'offset': 131, 'group': 'Nut and Seed Products', 'name': 'Seeds, sesame butter, tahini, from roasted and toasted kernels (most common type)', 'ndbno': '12166', 'ds': 'SR', 'manu': 'none'}, {'offset': 132, 'group': 'Nut and Seed Products', 'name': 'Seeds, sesame butter, tahini, from raw and stone ground kernels', 'ndbno': '12198', 'ds': 'SR', 'manu': 'none'}, {'offset': 133, 'group': 'Legumes and Legume Products', 'name': \"Peanut Butter, smooth (Includes foods for USDA's Food Distribution Program)\", 'ndbno': '16167', 'ds': 'SR', 'manu': 'none'}, {'offset': 134, 'group': 'Baked Products', 'name': 'Cake, pound, commercially prepared, butter (includes fresh and frozen)', 'ndbno': '18120', 'ds': 'SR', 'manu': 'none'}, {'offset': 135, 'group': 'Baked Products', 'name': 'Cake, pound, commercially prepared, other than all butter, enriched', 'ndbno': '18121', 'ds': 'SR', 'manu': 'none'}, {'offset': 136, 'group': 'Baked Products', 'name': 'Crackers, cheese, sandwich-type with peanut butter filling', 'ndbno': '18215', 'ds': 'SR', 'manu': 'none'}, {'offset': 137, 'group': 'Baked Products', 'name': 'Crackers, standard snack-type, sandwich, with peanut butter filling', 'ndbno': '18231', 'ds': 'SR', 'manu': 'none'}, {'offset': 138, 'group': 'Baked Products', 'name': 'Cookies, chocolate chip, prepared from recipe, made with butter', 'ndbno': '18378', 'ds': 'SR', 'manu': 'none'}, {'offset': 139, 'group': 'Baked Products', 'name': 'Cake, pound, commercially prepared, other than all butter, unenriched', 'ndbno': '18418', 'ds': 'SR', 'manu': 'none'}, {'offset': 140, 'group': 'Baked Products', 'name': 'Crackers, sandwich-type, peanut butter filled, reduced fat', 'ndbno': '28314', 'ds': 'SR', 'manu': 'none'}, {'offset': 141, 'group': 'Baked Products', 'name': 'Crackers, whole grain, sandwich-type, with peanut butter filling', 'ndbno': '28326', 'ds': 'SR', 'manu': 'none'}, {'offset': 142, 'group': 'Sweets', 'name': 'Candies, MARS SNACKFOOD US, TWIX Peanut Butter Cookie Bars', 'ndbno': '19161', 'ds': 'SR', 'manu': 'Masterfoods USA'}, {'offset': 143, 'group': 'Sweets', 'name': 'Frostings, chocolate, creamy, dry mix, prepared with butter', 'ndbno': '19241', 'ds': 'SR', 'manu': 'none'}, {'offset': 144, 'group': 'Sweets', 'name': 'Ice creams, BREYERS, No Sugar Added, Butter Pecan', 'ndbno': '19880', 'ds': 'SR', 'manu': 'Good Humor - Breyers Ice Cream'}, {'offset': 145, 'group': 'Sweets', 'name': \"Candies, MARS SNACKFOOD US, M&M's Peanut Butter Chocolate Candies\", 'ndbno': '42148', 'ds': 'SR', 'manu': 'Masterfoods USA'}, {'offset': 146, 'group': 'Snacks', 'name': 'Snacks, granola bars, soft, coated, milk chocolate coating, peanut butter', 'ndbno': '19026', 'ds': 'SR', 'manu': 'none'}, {'offset': 147, 'group': 'Snacks', 'name': 'Snacks, granola bars, soft, uncoated, peanut butter and chocolate chip', 'ndbno': '19027', 'ds': 'SR', 'manu': 'none'}, {'offset': 148, 'group': 'Snacks', 'name': 'Snacks, M&M MARS, KUDOS Whole Grain Bars, peanut butter', 'ndbno': '25007', 'ds': 'SR', 'manu': 'none'}, {'offset': 149, 'group': 'Snacks', 'name': 'Snacks, popcorn, microwave, regular (butter) flavor, made with partially hydrogenated oil', 'ndbno': '25014', 'ds': 'SR', 'manu': 'none'}]}}\n"
     ]
    }
   ],
   "source": [
    "#https://api.nal.usda.gov/ndb/?api_key=0GZ5qEePkP2hRaMRaFkVsFua33n5Bz4AXWVZRhtd <-- Basic URL\n",
    "#https://ndb.nal.usda.gov/ndb/doc/apilist/API-SEARCH.md <-- API docu\n",
    "\n",
    "import requests\n",
    "import sys\n",
    "\n",
    "\n",
    "## search is a different API that nutrient reports \n",
    "#\n",
    "key = '0GZ5qEePkP2hRaMRaFkVsFua33n5Bz4AXWVZRhtd'\n",
    "base = 'https://api.nal.usda.gov/ndb/'\n",
    "search = '&q=butter'\n",
    "url = '%s?api_key=%s' %(base, key + search)\n",
    "\n",
    "response = requests.get(url)\n",
    "\n",
    "print(response.json())"
   ]
  },
  {
   "cell_type": "code",
   "execution_count": 34,
   "metadata": {},
   "outputs": [
    {
     "data": {
      "text/plain": [
       "dict"
      ]
     },
     "execution_count": 34,
     "metadata": {},
     "output_type": "execute_result"
    }
   ],
   "source": [
    "type(response.json())"
   ]
  },
  {
   "cell_type": "code",
   "execution_count": 35,
   "metadata": {},
   "outputs": [],
   "source": [
    "import json"
   ]
  },
  {
   "cell_type": "code",
   "execution_count": 36,
   "metadata": {},
   "outputs": [],
   "source": [
    "r = json.dumps(response.json())\n",
    "loaded_r = json.loads(r)"
   ]
  },
  {
   "cell_type": "code",
   "execution_count": 39,
   "metadata": {},
   "outputs": [
    {
     "data": {
      "text/plain": [
       "dict"
      ]
     },
     "execution_count": 39,
     "metadata": {},
     "output_type": "execute_result"
    }
   ],
   "source": [
    "\n",
    "type(r) #Output str\n",
    "type(loaded_r) #Output dict"
   ]
  },
  {
   "cell_type": "code",
   "execution_count": 59,
   "metadata": {},
   "outputs": [
    {
     "data": {
      "text/plain": [
       "'Margarine-like, margarine-butter blend, soybean oil and butter'"
      ]
     },
     "execution_count": 59,
     "metadata": {},
     "output_type": "execute_result"
    }
   ],
   "source": [
    "loaded_r['list']['item'][3]['name']"
   ]
  },
  {
   "cell_type": "code",
   "execution_count": 69,
   "metadata": {},
   "outputs": [
    {
     "name": "stdout",
     "output_type": "stream",
     "text": [
      "BREYERS, BLASTS!, FROZEN DAIRY DESSERT, REESE'S PEANUT BUTTER CUPS CHOCOLATE FLAVOR WITH REESE'S PEANUT BUTTER SWIRL AND REESE'S PEANUT BUTTER CUP PIECES, UPC: 077567205186\n",
      "PEANUT BUTTER CREME PIES, PEANUT BUTTER COOKIES WITH PEANUT BUTTER CREME FILLING, UPC: 024300044106\n",
      "Butter, Clarified butter (ghee)\n",
      "Margarine-like, margarine-butter blend, soybean oil and butter\n",
      "CHOCOLATE ICE CREAM WITH PEANUT BUTTER RIBBON, BROWNIES AND PEANUT BUTTER CANDY CUPS, UPC: 075450222395\n",
      "BARNEY BUTTER ALMOND BUTTER HONEY + FLAX, UPC: 858864004401\n",
      "PEANUT BUTTER 'N DARK CHOCOLATE MIX WITH PEANUT BUTTER CANDIES, UPC: 077034084412\n",
      "SOUTHERN HOME, PEANUT BUTTER FILLED MINI PRETZELS, PEANUT BUTTER, UPC: 607880036091\n",
      "BROWN BUTTER SALTED CARAMEL BROWN BUTTER ICE CREAM, UPC: 070640016174\n",
      "AMISH COUNTRY BUTTER, AMISH STYLE HAND-ROLLED SALTED BUTTER, UPC: 890769002083\n",
      "WEIS QUALITY, POTATO CLASSICS, CREAMY BUTTER, REAL MASHED POTATOES SEASONED WITH BUTTER, UPC: 041497311163\n",
      "UTZ, PEANUT BUTTER FILLED PRETZELS, PEANUT BUTTER, UPC: 041780022301\n",
      "MRS. CUBBISON'S, BUTTER & GARLIC CROUTONS, BUTTER & GARLIC, UPC: 074714085653\n",
      "NECCO, MARY JANE, PEANUT BUTTER KISSES CANDY, PEANUT BUTTER, UPC: 011215314790\n",
      "NABISCO, NUTTER BUTTER, PEANUT BUTTER SANDWICH COOKIES, UPC: 044000036577\n",
      "NABISCO, NUTTER BUTTER, PEANUT BUTTER SANDWICH COOKIES BITES, UPC: 044000003067\n",
      "NABISCO, NUTTER BUTTER, PEANUT BUTTER SANDWICH COOKIES, UPC: 044000088453\n",
      "NABISCO, NUTTER BUTTER, SANDWICH COOKIES, PEANUT BUTTER, UPC: 044000037451\n",
      "NABISCO, NUTTER BUTTER, PEANUT BUTTER SANDWICH COOKIES, UPC: 044000042516\n",
      "OLD DOMINION PEANUT COMPANY, PEANUT BUTTER DOUBLE UPS, PEANUTS, PEANUT BUTTER AND CHOCOLATE, UPC: 076138028209\n",
      "MIKE'S POPCORN, BUTTER POPCORN, BUTTER, UPC: 855762005363\n",
      "CLIF BAR, NUT BUTTER FILLED ENERGY BAR, COCONUT ALMOND BUTTER, UPC: 722252368829\n",
      "CLIF BAR, NUT BUTTER FILLED ENERGY BAR, CHOCOLATE HAZELNUT BUTTER, UPC: 722252368805\n",
      "BUTTER BELLA, GOURMET COOKIES, BUTTER WITH TURBINADO SPRINKLES, UPC: 891066001519\n",
      "MAINE COUNTRY BUTTER, SALTED BUTTER, UPC: 090762000011\n",
      "NUTTER BUTTER, PEANUT BUTTER SANDWICH COOKIES, UPC: 044000046316\n",
      "LAKE CHAMPLAIN CHOCOLATE, ORGANIC PEANUT BUTTER CHOCOLATE, PEANUT BUTTER, UPC: 769933854929\n",
      "BREYERS, FROZEN DAIRY DESSERT, NO SUGAR ADDED, BUTTER PECAN, BUTTER PECAN FLAVOR WITH OTHER NATURAL FLAVORS AND PECAN PIECES, UPC: 077567281968\n",
      "BREYERS, DARK CHOCOLATE ICE CREAM WITH PEANUT BUTTER SWIRL, CHOCOLATE PEANUT BUTTER, UPC: 077567603326\n",
      "BREYERS, BLASTS!, PEANUT BUTTER LIGHT ICE CREAM* WITH REESE'S PEANUT BUTTER CUP PIECES AND A FUDGE SWIRL, UPC: 077567275066\n",
      "NUT BUTTER FILLED COCONUT ALMOND BUTTER, UPC: 722252268020\n",
      "AUNT JEMIMA, BUTTER RICH SYRUP, BUTTER, UPC: 030000059401\n",
      "SHOPRITE, ORGANIC CHUNKY PEANUT BUTTER, PEANUT, BUTTER, UPC: 041190043538\n",
      "CHALLENGE BUTTER, GRADE AA SALTED BUTTER, UPC: 047200152641\n",
      "BARNEY BUTTER, ALMOND BUTTER, UPC: 094922667311\n",
      "BOGG'S TRAIL BUTTER, ALL NATURAL ENERGY NUT BUTTER, UPC: 715134255720\n",
      "VANILLA ICE CREAM WITH PEANUT BUTTER FILLED MILK CHOCOLATE CANDY CUPS, FUDGE & PEANUT BUTTER SWIRLS, UPC: 018894310211\n",
      "GARDNERS CANDIES, ORIGINAL PEANUT BUTTER MELTAWAYS, PEANUT BUTTER, UPC: 088671105217\n",
      "BUTTER CUPS, SPREADABLE CREAMED BUTTER, UPC: 852996005107\n",
      "MURRAY, SUGAR FREE PEANUT BUTTER COOKIES, PEANUT BUTTER, UPC: 082011913319\n",
      "FUDGE COVERED PEANUT BUTTER CAKE WITH PEANUT BUTTER CREAMY FILLING, UPC: 888109011673\n",
      "JOLLY TIME, XTRA BUTTER MICROWAVE POP CORN, BUTTER, UPC: 028190008477\n",
      "THE BAKERY, PEANUT BUTTER FUDGE, CREAMY PEANUT BUTTER, UPC: 078742121512\n",
      "BUTTER & MAPLE FLAVORED ICE CREAM WITH BUTTER FLAVORED CANDY PIECES, UPC: 018894310228\n",
      "OLD DOMINION PEANUT COMPANY, PEANUT BUTTER DOUBLE UPS, PEANUTS, PEANUT BUTTER AND CHOCOLATE, UPC: 076138021224\n",
      "BELMONT, BUTTER TOASTED PEANUTS, BUTTER TOASTED, UPC: 858582001300\n",
      "CASCO BAY BUTTER CO, TRUFFLE BUTTER, UPC: 857534005021\n",
      "BLUE SKY TREATS, MATTHEW'S PEANUT BUTTER BAR, PEANUT BUTTER, UPC: 879275000653\n",
      "WILD FRIENDS, PEANUT BUTTER WITH CRUNCHY PRETZEL BUTS, PEANUT BUTTER, UPC: 00853547003061\n",
      "BUTTER HARD CARAMELS, MADE WITH REAL BUTTER AND CREAM, UPC: 072976138179\n",
      "RICH MILK CHOCOLATE ICE CREAM PERFECTLY PAIRED WITH SWIRLS OF REAL PEANUT BUTTER AND MILK CHOCOLATE PEANUT BUTTER CUPS, UPC: 076310080568\n",
      "SCHOOL KINE COOKIES, ALL BUTTER COOKIES, CORNFLAKE BUTTER CRUNCH, UPC: 034859300080\n",
      "BUCKEYE BROWNIE PEANUT BUTTER ICE CREAM SWIRLED WITH THICK PEANUT BUTTER AND CHOCOLATE BROWNIE BITES, UPC: 070682100527\n",
      "SWEET BUTTER, GREEN BUTTER LETTUCE & RED LEAF LETTUCE, UPC: 071279221038\n",
      "FRESH CHURNED BUTTER, HONEY BUTTER, UPC: 641548101479\n",
      "FUDGE COVERED PEANUT BUTTER CAKE WITH PEANUT BUTTER CREAMY FILLING, UPC: 888109011680\n",
      "NABISCO NUTTER BUTTER COOKIES NUTTER BUTTER 1X3.500 OZ, UNPREPARED, GTIN: 00044000036584\n",
      "BUTTER ME UP!, PEANUT BUTTER, HONEY ROASTED, UPC: 720825454856\n",
      "BUTTER ME UP!, WHITE CHOCOLATE ALMOND BUTTER, UPC: 720825454917\n",
      "BUTTER ME UP!, CASHEW BUTTER, UPC: 720825454849\n",
      "BUTTER MINTS MADE WITH CREAMY BUTTER, UPC: 072376906866\n",
      "PEANUT BUTTER & CO, PEANUT BUTTER BLENDED WITH DARK CHOCOLATE, UPC: 851087000304\n",
      "CHOCOLATE FROZEN YOGURT WITH PEANUT BUTTER CUPS AND A PEANUT BUTTER FUDGE SWIRL, UPC: 041483041265\n",
      "Croissants, butter\n",
      "Butter, salted\n",
      "Butter, whipped, with salt\n",
      "Butter oil, anhydrous\n",
      "Butter, without salt\n",
      "Oil, cocoa butter\n",
      "Oil, nutmeg butter\n",
      "Oil, ucuhuba butter\n",
      "Seeds, sesame butter, paste\n",
      "Peanut butter, reduced sodium\n",
      "Fruit butters, apple\n",
      "Butter, light, stick, with salt\n",
      "Butter, light, stick, without salt\n",
      "Butter replacement, without fat, powder\n",
      "Seeds, sunflower seed butter, without salt\n",
      "Nuts, cashew butter, plain, without salt added\n",
      "Nuts, almond butter, plain, without salt added\n",
      "Seeds, sunflower seed butter, with salt added (Includes foods for USDA's Food Distribution Program)\n",
      "Nuts, cashew butter, plain, with salt added\n",
      "Nuts, almond butter, plain, with salt added\n",
      "Seeds, sesame butter, tahini, type of kernels unspecified\n",
      "Peanut butter, smooth, reduced fat\n",
      "Cookies, butter, commercially prepared, enriched\n",
      "Cookies, peanut butter, refrigerated dough\n",
      "Cookies, peanut butter sandwich, regular\n",
      "Cookies, butter, commercially prepared, unenriched\n",
      "Candies, confectioner's coating, peanut butter\n",
      "Candies, REESE'S Peanut Butter Cups\n",
      "Snacks, granola bars, hard, peanut butter\n",
      "Vegetable oil-butter spread, reduced calorie\n",
      "Cereals, QUAKER, Instant Grits, Butter flavor, dry\n",
      "Potatoes, scalloped, home-prepared with butter\n",
      "Pickles, cucumber, sweet (includes bread and butter pickles)\n",
      "Seeds, sesame butter, tahini, from unroasted kernels (non-chemically removed seed coat)\n",
      "Peanut butter, chunk style, with salt\n",
      "Peanut butter, smooth style, with salt (Includes foods for USDA's Food Distribution Program)\n",
      "Peanut butter, smooth, vitamin and mineral fortified\n",
      "Peanut butter, chunky, vitamin and mineral fortified\n",
      "Peanut butter, chunk style, without salt\n",
      "Peanut butter, smooth style, without salt\n",
      "Peanut butter with omega-3, creamy\n",
      "Cookies, peanut butter, commercially prepared, regular\n",
      "Cookies, peanut butter, commercially prepared, soft-type\n",
      "Cookies, peanut butter, refrigerated dough, baked\n",
      "Cookies, peanut butter, prepared from recipe\n",
      "Cookies, peanut butter sandwich, special dietary\n",
      "Crackers, wheat, sandwich, with peanut butter filling\n",
      "Archway Home Style Cookies, Peanut Butter\n",
      "Cookie, with peanut butter filling, chocolate-coated\n",
      "Cookie, butter or sugar, with chocolate icing or filling\n",
      "Cookies, peanut butter, commercially prepared, sugar free\n",
      "Candies, honey-combed, with peanut butter\n",
      "Candies, fudge, peanut butter, prepared-from-recipe\n",
      "Syrups, table blends, pancake, with butter\n",
      "Candies, semisweet chocolate, made with butter\n",
      "Candies, crispy bar with peanut butter filling\n",
      "Snacks, granola bars, soft, uncoated, peanut butter\n",
      "Margarine-like, vegetable oil-butter spread, tub, with salt\n",
      "Oil, industrial, soy (partially hydrogenated), multiuse for non-dairy butter flavor\n",
      "Margarine-like, butter-margarine blend, 80% fat, stick, without salt\n",
      "Sauce, white, thin, prepared-from-recipe, with butter\n",
      "Cereals ready-to-eat, QUAKER, CAP'N CRUNCH'S PEANUT BUTTER CRUNCH\n",
      "Cereals ready-to-eat, QUAKER, MOTHER'S PEANUT BUTTER BUMPERS Cereal\n",
      "Potatoes, au gratin, home-prepared from recipe using butter\n",
      "Potatoes, hash brown, frozen, with butter sauce, unprepared\n",
      "Potatoes, hash brown, frozen, with butter sauce, prepared\n",
      "Potatoes, mashed, home-prepared, whole milk and butter added\n",
      "Pickles, cucumber, sweet, low sodium (includes bread and butter pickles)\n",
      "Seeds, sesame butter, tahini, from roasted and toasted kernels (most common type)\n",
      "Seeds, sesame butter, tahini, from raw and stone ground kernels\n",
      "Peanut Butter, smooth (Includes foods for USDA's Food Distribution Program)\n",
      "Cake, pound, commercially prepared, butter (includes fresh and frozen)\n",
      "Cake, pound, commercially prepared, other than all butter, enriched\n",
      "Crackers, cheese, sandwich-type with peanut butter filling\n",
      "Crackers, standard snack-type, sandwich, with peanut butter filling\n",
      "Cookies, chocolate chip, prepared from recipe, made with butter\n",
      "Cake, pound, commercially prepared, other than all butter, unenriched\n",
      "Crackers, sandwich-type, peanut butter filled, reduced fat\n",
      "Crackers, whole grain, sandwich-type, with peanut butter filling\n",
      "Candies, MARS SNACKFOOD US, TWIX Peanut Butter Cookie Bars\n",
      "Frostings, chocolate, creamy, dry mix, prepared with butter\n",
      "Ice creams, BREYERS, No Sugar Added, Butter Pecan\n",
      "Candies, MARS SNACKFOOD US, M&M's Peanut Butter Chocolate Candies\n",
      "Snacks, granola bars, soft, coated, milk chocolate coating, peanut butter\n",
      "Snacks, granola bars, soft, uncoated, peanut butter and chocolate chip\n",
      "Snacks, M&M MARS, KUDOS Whole Grain Bars, peanut butter\n",
      "Snacks, popcorn, microwave, regular (butter) flavor, made with partially hydrogenated oil\n"
     ]
    }
   ],
   "source": [
    "for x in loaded_r ['list']['item']:\n",
    "    print(x['name'])"
   ]
  },
  {
   "cell_type": "code",
   "execution_count": null,
   "metadata": {},
   "outputs": [],
   "source": []
  }
 ],
 "metadata": {
  "kernelspec": {
   "display_name": "Python 3",
   "language": "python",
   "name": "python3"
  },
  "language_info": {
   "codemirror_mode": {
    "name": "ipython",
    "version": 3
   },
   "file_extension": ".py",
   "mimetype": "text/x-python",
   "name": "python",
   "nbconvert_exporter": "python",
   "pygments_lexer": "ipython3",
   "version": "3.6.5"
  }
 },
 "nbformat": 4,
 "nbformat_minor": 2
}
